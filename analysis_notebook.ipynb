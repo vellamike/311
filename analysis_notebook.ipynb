{
 "metadata": {
  "name": ""
 },
 "nbformat": 3,
 "nbformat_minor": 0,
 "worksheets": [
  {
   "cells": [
    {
     "cell_type": "code",
     "collapsed": false,
     "input": [
      "import pandas\n",
      "import math\n",
      "import csv"
     ],
     "language": "python",
     "metadata": {},
     "outputs": [],
     "prompt_number": 10
    },
    {
     "cell_type": "heading",
     "level": 4,
     "metadata": {},
     "source": [
      "Load the data"
     ]
    },
    {
     "cell_type": "code",
     "collapsed": false,
     "input": [
      "#change this to your own path:\n",
      "data = pandas.read_csv('/home/mike/dev/311/data/train.csv')"
     ],
     "language": "python",
     "metadata": {},
     "outputs": [],
     "prompt_number": 11
    },
    {
     "cell_type": "heading",
     "level": 3,
     "metadata": {},
     "source": [
      "Example of playing around with data - what is the number of rows?"
     ]
    },
    {
     "cell_type": "code",
     "collapsed": false,
     "input": [
      "#set id to index, for later\n",
      "data.index = data.id\n",
      "#now the id is the key, we can do stuff like this:\n",
      "data.latitude[335652]"
     ],
     "language": "python",
     "metadata": {},
     "outputs": [
      {
       "metadata": {},
       "output_type": "pyout",
       "prompt_number": 12,
       "text": [
        "37.560369000000001"
       ]
      }
     ],
     "prompt_number": 12
    },
    {
     "cell_type": "heading",
     "level": 3,
     "metadata": {},
     "source": [
      "Have a look at the first five elements of our data"
     ]
    },
    {
     "cell_type": "code",
     "collapsed": false,
     "input": [
      "data.head(5)"
     ],
     "language": "python",
     "metadata": {},
     "outputs": [
      {
       "html": [
        "<div style=\"max-height:1000px;max-width:1500px;overflow:auto;\">\n",
        "<table border=\"1\" class=\"dataframe\">\n",
        "  <thead>\n",
        "    <tr style=\"text-align: right;\">\n",
        "      <th></th>\n",
        "      <th>id</th>\n",
        "      <th>latitude</th>\n",
        "      <th>longitude</th>\n",
        "      <th>summary</th>\n",
        "      <th>description</th>\n",
        "      <th>num_votes</th>\n",
        "      <th>num_comments</th>\n",
        "      <th>num_views</th>\n",
        "      <th>source</th>\n",
        "      <th>created_time</th>\n",
        "      <th>tag_type</th>\n",
        "    </tr>\n",
        "    <tr>\n",
        "      <th>id</th>\n",
        "      <th></th>\n",
        "      <th></th>\n",
        "      <th></th>\n",
        "      <th></th>\n",
        "      <th></th>\n",
        "      <th></th>\n",
        "      <th></th>\n",
        "      <th></th>\n",
        "      <th></th>\n",
        "      <th></th>\n",
        "      <th></th>\n",
        "    </tr>\n",
        "  </thead>\n",
        "  <tbody>\n",
        "    <tr>\n",
        "      <th>368683</th>\n",
        "      <td> 368683</td>\n",
        "      <td> 37.590139</td>\n",
        "      <td>-77.456841</td>\n",
        "      <td>            Alleyway light out.</td>\n",
        "      <td> There is a streetlight lamp out in the alleywa...</td>\n",
        "      <td> 4</td>\n",
        "      <td> 0</td>\n",
        "      <td> 62</td>\n",
        "      <td> New Map Widget</td>\n",
        "      <td> 2012-01-01 01:20:08</td>\n",
        "      <td> street_light</td>\n",
        "    </tr>\n",
        "    <tr>\n",
        "      <th>77642 </th>\n",
        "      <td>  77642</td>\n",
        "      <td> 37.541534</td>\n",
        "      <td>-77.451985</td>\n",
        "      <td>  brick side walk has sink hole</td>\n",
        "      <td> bricks are falling into deep hole.  please rep...</td>\n",
        "      <td> 2</td>\n",
        "      <td> 2</td>\n",
        "      <td> 28</td>\n",
        "      <td>            NaN</td>\n",
        "      <td> 2012-01-01 03:18:40</td>\n",
        "      <td>      pothole</td>\n",
        "    </tr>\n",
        "    <tr>\n",
        "      <th>335652</th>\n",
        "      <td> 335652</td>\n",
        "      <td> 37.560369</td>\n",
        "      <td>-77.468661</td>\n",
        "      <td>                       Graffiti</td>\n",
        "      <td> This is the rear parking lot of the former Jul...</td>\n",
        "      <td> 4</td>\n",
        "      <td> 2</td>\n",
        "      <td> 36</td>\n",
        "      <td> New Map Widget</td>\n",
        "      <td> 2012-01-01 03:39:48</td>\n",
        "      <td>     graffiti</td>\n",
        "    </tr>\n",
        "    <tr>\n",
        "      <th>339096</th>\n",
        "      <td> 339096</td>\n",
        "      <td> 37.553762</td>\n",
        "      <td>-77.474736</td>\n",
        "      <td> Non-functioning Traffic Lights</td>\n",
        "      <td> Walking man out on nb side of blvd southward w...</td>\n",
        "      <td> 2</td>\n",
        "      <td> 0</td>\n",
        "      <td> 29</td>\n",
        "      <td>        android</td>\n",
        "      <td> 2012-01-01 13:59:41</td>\n",
        "      <td>      traffic</td>\n",
        "    </tr>\n",
        "    <tr>\n",
        "      <th>343122</th>\n",
        "      <td> 343122</td>\n",
        "      <td> 37.538814</td>\n",
        "      <td>-77.437136</td>\n",
        "      <td>           Pothole in Crosswalk</td>\n",
        "      <td> Going from South to North in front of Wells Fa...</td>\n",
        "      <td> 2</td>\n",
        "      <td> 0</td>\n",
        "      <td> 18</td>\n",
        "      <td> New Map Widget</td>\n",
        "      <td> 2012-01-01 14:05:30</td>\n",
        "      <td>      pothole</td>\n",
        "    </tr>\n",
        "  </tbody>\n",
        "</table>\n",
        "</div>"
       ],
       "metadata": {},
       "output_type": "pyout",
       "prompt_number": 13,
       "text": [
        "            id   latitude  longitude                         summary  \\\n",
        "id                                                                     \n",
        "368683  368683  37.590139 -77.456841             Alleyway light out.   \n",
        "77642    77642  37.541534 -77.451985   brick side walk has sink hole   \n",
        "335652  335652  37.560369 -77.468661                        Graffiti   \n",
        "339096  339096  37.553762 -77.474736  Non-functioning Traffic Lights   \n",
        "343122  343122  37.538814 -77.437136            Pothole in Crosswalk   \n",
        "\n",
        "                                              description  num_votes  \\\n",
        "id                                                                     \n",
        "368683  There is a streetlight lamp out in the alleywa...          4   \n",
        "77642   bricks are falling into deep hole.  please rep...          2   \n",
        "335652  This is the rear parking lot of the former Jul...          4   \n",
        "339096  Walking man out on nb side of blvd southward w...          2   \n",
        "343122  Going from South to North in front of Wells Fa...          2   \n",
        "\n",
        "        num_comments  num_views          source         created_time  \\\n",
        "id                                                                     \n",
        "368683             0         62  New Map Widget  2012-01-01 01:20:08   \n",
        "77642              2         28             NaN  2012-01-01 03:18:40   \n",
        "335652             2         36  New Map Widget  2012-01-01 03:39:48   \n",
        "339096             0         29         android  2012-01-01 13:59:41   \n",
        "343122             0         18  New Map Widget  2012-01-01 14:05:30   \n",
        "\n",
        "            tag_type  \n",
        "id                    \n",
        "368683  street_light  \n",
        "77642        pothole  \n",
        "335652      graffiti  \n",
        "339096       traffic  \n",
        "343122       pothole  "
       ]
      }
     ],
     "prompt_number": 13
    },
    {
     "cell_type": "heading",
     "level": 3,
     "metadata": {},
     "source": [
      "Select subset of data from a particular latitudes"
     ]
    },
    {
     "cell_type": "code",
     "collapsed": false,
     "input": [
      "def select(data,city):\n",
      "    \"\"\"\n",
      "    Return a data frame for the city within the correct latitudes\n",
      "    \"\"\"\n",
      "    latitude_min = city[0]\n",
      "    latitude_max = city[1]\n",
      "    selected = data[(data.latitude >= latitude_min) & (data.latitude < latitude_max)]\n",
      "    return selected\n",
      "\n",
      "city_1_boundaries = (37.4,37.7)\n",
      "city_2_boundaries = (37.7,37.9)\n",
      "city_3_boundaries = (41.24,41.3)\n",
      "city_4_boundaries = (41.3,41.4)\n",
      "city_5_boundaries = (41.6,42.1)\n",
      "\n",
      "city_1 = select(data,city_1_boundaries)\n",
      "city_2 = select(data,city_2_boundaries)\n",
      "city_3 = select(data,city_3_boundaries)\n",
      "city_4 = select(data,city_4_boundaries)\n",
      "city_5 = select(data,city_5_boundaries)\n",
      "#example:\n",
      "city_2.head()"
     ],
     "language": "python",
     "metadata": {},
     "outputs": [
      {
       "html": [
        "<div style=\"max-height:1000px;max-width:1500px;overflow:auto;\">\n",
        "<table border=\"1\" class=\"dataframe\">\n",
        "  <thead>\n",
        "    <tr style=\"text-align: right;\">\n",
        "      <th></th>\n",
        "      <th>id</th>\n",
        "      <th>latitude</th>\n",
        "      <th>longitude</th>\n",
        "      <th>summary</th>\n",
        "      <th>description</th>\n",
        "      <th>num_votes</th>\n",
        "      <th>num_comments</th>\n",
        "      <th>num_views</th>\n",
        "      <th>source</th>\n",
        "      <th>created_time</th>\n",
        "      <th>tag_type</th>\n",
        "    </tr>\n",
        "    <tr>\n",
        "      <th>id</th>\n",
        "      <th></th>\n",
        "      <th></th>\n",
        "      <th></th>\n",
        "      <th></th>\n",
        "      <th></th>\n",
        "      <th></th>\n",
        "      <th></th>\n",
        "      <th></th>\n",
        "      <th></th>\n",
        "      <th></th>\n",
        "      <th></th>\n",
        "    </tr>\n",
        "  </thead>\n",
        "  <tbody>\n",
        "    <tr>\n",
        "      <th>317026</th>\n",
        "      <td> 317026</td>\n",
        "      <td> 37.843478</td>\n",
        "      <td>-122.245946</td>\n",
        "      <td>               Pothole</td>\n",
        "      <td>                               Pothole in street\\n</td>\n",
        "      <td> 4</td>\n",
        "      <td> 1</td>\n",
        "      <td> 177</td>\n",
        "      <td> iphone</td>\n",
        "      <td> 2012-01-02 18:06:44</td>\n",
        "      <td>       pothole</td>\n",
        "    </tr>\n",
        "    <tr>\n",
        "      <th>379955</th>\n",
        "      <td> 379955</td>\n",
        "      <td> 37.839588</td>\n",
        "      <td>-122.251488</td>\n",
        "      <td> Parking meter station</td>\n",
        "      <td> Appears to have been hit by car. Out of operat...</td>\n",
        "      <td> 4</td>\n",
        "      <td> 1</td>\n",
        "      <td> 164</td>\n",
        "      <td> iphone</td>\n",
        "      <td> 2012-01-02 18:55:09</td>\n",
        "      <td> parking_meter</td>\n",
        "    </tr>\n",
        "    <tr>\n",
        "      <th>16578 </th>\n",
        "      <td>  16578</td>\n",
        "      <td> 37.793552</td>\n",
        "      <td>-122.213066</td>\n",
        "      <td>       Illegal Dumping</td>\n",
        "      <td> Please invest in a camera to catch and stop th...</td>\n",
        "      <td> 2</td>\n",
        "      <td> 1</td>\n",
        "      <td> 166</td>\n",
        "      <td> iphone</td>\n",
        "      <td> 2012-01-02 20:29:54</td>\n",
        "      <td>         trash</td>\n",
        "    </tr>\n",
        "    <tr>\n",
        "      <th>376412</th>\n",
        "      <td> 376412</td>\n",
        "      <td> 37.814213</td>\n",
        "      <td>-122.268333</td>\n",
        "      <td>       Illegal Dumping</td>\n",
        "      <td>                                               NaN</td>\n",
        "      <td> 4</td>\n",
        "      <td> 1</td>\n",
        "      <td>  89</td>\n",
        "      <td> iphone</td>\n",
        "      <td> 2012-01-03 06:24:40</td>\n",
        "      <td>         trash</td>\n",
        "    </tr>\n",
        "    <tr>\n",
        "      <th>201228</th>\n",
        "      <td> 201228</td>\n",
        "      <td> 37.808846</td>\n",
        "      <td>-122.255119</td>\n",
        "      <td>              Sidewalk</td>\n",
        "      <td> So the overflowing trash can was emptied - but...</td>\n",
        "      <td> 2</td>\n",
        "      <td> 1</td>\n",
        "      <td>  59</td>\n",
        "      <td> iphone</td>\n",
        "      <td> 2012-01-03 15:44:30</td>\n",
        "      <td>         trash</td>\n",
        "    </tr>\n",
        "  </tbody>\n",
        "</table>\n",
        "</div>"
       ],
       "metadata": {},
       "output_type": "pyout",
       "prompt_number": 14,
       "text": [
        "            id   latitude   longitude                summary  \\\n",
        "id                                                             \n",
        "317026  317026  37.843478 -122.245946                Pothole   \n",
        "379955  379955  37.839588 -122.251488  Parking meter station   \n",
        "16578    16578  37.793552 -122.213066        Illegal Dumping   \n",
        "376412  376412  37.814213 -122.268333        Illegal Dumping   \n",
        "201228  201228  37.808846 -122.255119               Sidewalk   \n",
        "\n",
        "                                              description  num_votes  \\\n",
        "id                                                                     \n",
        "317026                                Pothole in street\\n          4   \n",
        "379955  Appears to have been hit by car. Out of operat...          4   \n",
        "16578   Please invest in a camera to catch and stop th...          2   \n",
        "376412                                                NaN          4   \n",
        "201228  So the overflowing trash can was emptied - but...          2   \n",
        "\n",
        "        num_comments  num_views  source         created_time       tag_type  \n",
        "id                                                                           \n",
        "317026             1        177  iphone  2012-01-02 18:06:44        pothole  \n",
        "379955             1        164  iphone  2012-01-02 18:55:09  parking_meter  \n",
        "16578              1        166  iphone  2012-01-02 20:29:54          trash  \n",
        "376412             1         89  iphone  2012-01-03 06:24:40          trash  \n",
        "201228             1         59  iphone  2012-01-03 15:44:30          trash  "
       ]
      }
     ],
     "prompt_number": 14
    },
    {
     "cell_type": "heading",
     "level": 3,
     "metadata": {},
     "source": [
      "Sanity check"
     ]
    },
    {
     "cell_type": "code",
     "collapsed": false,
     "input": [
      "data.id.size == city_1.id.size + city_2.id.size + city_3.id.size + city_4.id.size + city_5.id.size"
     ],
     "language": "python",
     "metadata": {},
     "outputs": [
      {
       "metadata": {},
       "output_type": "pyout",
       "prompt_number": 15,
       "text": [
        "True"
       ]
      }
     ],
     "prompt_number": 15
    },
    {
     "cell_type": "heading",
     "level": 3,
     "metadata": {},
     "source": [
      "Now for each city, calculate the means for votes,comments and views"
     ]
    },
    {
     "cell_type": "code",
     "collapsed": false,
     "input": [
      "def log_mean(city):\n",
      "    \"\"\"\n",
      "    Calculates the scaled (log(x + 1)) mean for training data or subset\n",
      "    of it\n",
      "    \"\"\"\n",
      "\n",
      "    num_views = city.num_views\n",
      "    num_votes = city.num_votes\n",
      "    num_comments = city.num_comments\n",
      "    log_num_views = map(math.log,num_views + 1)\n",
      "    log_num_votes = map(math.log,num_votes + 1)\n",
      "    log_num_comments = map(math.log,num_comments + 1)\n",
      "    \n",
      "    mean_log_num_views = np.mean(log_num_views)\n",
      "    mean_log_num_votes = np.mean(log_num_votes)\n",
      "    mean_log_num_comments = np.mean(log_num_comments)\n",
      "    return mean_log_num_views, mean_log_num_votes, mean_log_num_comments"
     ],
     "language": "python",
     "metadata": {},
     "outputs": [],
     "prompt_number": 16
    },
    {
     "cell_type": "code",
     "collapsed": false,
     "input": [
      "cities = [city_1,city_2,city_3,city_4,city_5]\n",
      "for city in cities:\n",
      "    city.means =  np.exp(log_mean(city)) - 1\n",
      "\n",
      "#examples:\n",
      "print city_1.means\n",
      "print city_2.means\n",
      "print city_3.means\n",
      "print city_4.means\n",
      "print city_5.means"
     ],
     "language": "python",
     "metadata": {},
     "outputs": [
      {
       "output_type": "stream",
       "stream": "stdout",
       "text": [
        "[ 11.85900854   2.31268543   0.06699607]\n",
        "[ 9.4233974   2.36896414  0.18309663]\n",
        "[ 9.40549918  2.12191633  0.30296862]\n",
        "[ 17.2678141    2.64567649   0.49350278]\n",
        "[ 0.45586174  1.01099621  0.00318232]\n"
       ]
      }
     ],
     "prompt_number": 17
    },
    {
     "cell_type": "heading",
     "level": 3,
     "metadata": {},
     "source": [
      "We now have the means for each one, now load the test data"
     ]
    },
    {
     "cell_type": "code",
     "collapsed": false,
     "input": [
      "test_data = pandas.read_csv('/home/mike/dev/311/data/test.csv')\n",
      "#check it out:\n",
      "test_data.head(5)"
     ],
     "language": "python",
     "metadata": {},
     "outputs": [
      {
       "html": [
        "<div style=\"max-height:1000px;max-width:1500px;overflow:auto;\">\n",
        "<table border=\"1\" class=\"dataframe\">\n",
        "  <thead>\n",
        "    <tr style=\"text-align: right;\">\n",
        "      <th></th>\n",
        "      <th>id</th>\n",
        "      <th>latitude</th>\n",
        "      <th>longitude</th>\n",
        "      <th>summary</th>\n",
        "      <th>description</th>\n",
        "      <th>source</th>\n",
        "      <th>created_time</th>\n",
        "      <th>tag_type</th>\n",
        "    </tr>\n",
        "  </thead>\n",
        "  <tbody>\n",
        "    <tr>\n",
        "      <th>0</th>\n",
        "      <td>  21523</td>\n",
        "      <td> 41.913652</td>\n",
        "      <td>-87.706050</td>\n",
        "      <td>     Graffiti Removal</td>\n",
        "      <td>                                  NaN</td>\n",
        "      <td> remote_api_created</td>\n",
        "      <td> 2013-05-01 00:13:47</td>\n",
        "      <td> NaN</td>\n",
        "    </tr>\n",
        "    <tr>\n",
        "      <th>1</th>\n",
        "      <td>  87152</td>\n",
        "      <td> 41.913646</td>\n",
        "      <td>-87.706479</td>\n",
        "      <td>     Graffiti Removal</td>\n",
        "      <td>                                  NaN</td>\n",
        "      <td> remote_api_created</td>\n",
        "      <td> 2013-05-01 00:14:57</td>\n",
        "      <td> NaN</td>\n",
        "    </tr>\n",
        "    <tr>\n",
        "      <th>2</th>\n",
        "      <td> 182789</td>\n",
        "      <td> 41.992691</td>\n",
        "      <td>-87.663184</td>\n",
        "      <td>     Graffiti Removal</td>\n",
        "      <td>                                  NaN</td>\n",
        "      <td> remote_api_created</td>\n",
        "      <td> 2013-05-01 00:18:49</td>\n",
        "      <td> NaN</td>\n",
        "    </tr>\n",
        "    <tr>\n",
        "      <th>3</th>\n",
        "      <td> 312571</td>\n",
        "      <td> 41.702686</td>\n",
        "      <td>-87.525743</td>\n",
        "      <td>   Traffic Signal Out</td>\n",
        "      <td> Assigned to Traffic Signal Repairman</td>\n",
        "      <td> remote_api_created</td>\n",
        "      <td> 2013-05-01 00:18:49</td>\n",
        "      <td> NaN</td>\n",
        "    </tr>\n",
        "    <tr>\n",
        "      <th>4</th>\n",
        "      <td> 246776</td>\n",
        "      <td> 41.724424</td>\n",
        "      <td>-87.643293</td>\n",
        "      <td> Street Light 1 / Out</td>\n",
        "      <td>                                  NaN</td>\n",
        "      <td> remote_api_created</td>\n",
        "      <td> 2013-05-01 00:25:40</td>\n",
        "      <td> NaN</td>\n",
        "    </tr>\n",
        "  </tbody>\n",
        "</table>\n",
        "</div>"
       ],
       "metadata": {},
       "output_type": "pyout",
       "prompt_number": 18,
       "text": [
        "       id   latitude  longitude               summary  \\\n",
        "0   21523  41.913652 -87.706050      Graffiti Removal   \n",
        "1   87152  41.913646 -87.706479      Graffiti Removal   \n",
        "2  182789  41.992691 -87.663184      Graffiti Removal   \n",
        "3  312571  41.702686 -87.525743    Traffic Signal Out   \n",
        "4  246776  41.724424 -87.643293  Street Light 1 / Out   \n",
        "\n",
        "                            description              source  \\\n",
        "0                                   NaN  remote_api_created   \n",
        "1                                   NaN  remote_api_created   \n",
        "2                                   NaN  remote_api_created   \n",
        "3  Assigned to Traffic Signal Repairman  remote_api_created   \n",
        "4                                   NaN  remote_api_created   \n",
        "\n",
        "          created_time tag_type  \n",
        "0  2013-05-01 00:13:47      NaN  \n",
        "1  2013-05-01 00:14:57      NaN  \n",
        "2  2013-05-01 00:18:49      NaN  \n",
        "3  2013-05-01 00:18:49      NaN  \n",
        "4  2013-05-01 00:25:40      NaN  "
       ]
      }
     ],
     "prompt_number": 18
    },
    {
     "cell_type": "heading",
     "level": 3,
     "metadata": {},
     "source": [
      "Make sure all city boundaries are the same"
     ]
    },
    {
     "cell_type": "code",
     "collapsed": false,
     "input": [
      "test_city_1 = select(test_data,city_1_boundaries)\n",
      "test_city_2 = select(test_data,city_2_boundaries)\n",
      "test_city_3 = select(test_data,city_3_boundaries)\n",
      "test_city_4 = select(test_data,city_4_boundaries)\n",
      "test_city_5 = select(test_data,city_5_boundaries)\n",
      "test_cities = [test_city_1,test_city_2,test_city_3,test_city_4,test_city_5]\n",
      "test_data.id.size == test_city_1.id.size + test_city_2.id.size + test_city_3.id.size + test_city_4.id.size + test_city_5.id.size"
     ],
     "language": "python",
     "metadata": {},
     "outputs": [
      {
       "metadata": {},
       "output_type": "pyout",
       "prompt_number": 19,
       "text": [
        "True"
       ]
      }
     ],
     "prompt_number": 19
    },
    {
     "cell_type": "heading",
     "level": 3,
     "metadata": {},
     "source": [
      "Set test city projected mean to be equal to training city actual mean (in absence of fudge factor)"
     ]
    },
    {
     "cell_type": "code",
     "collapsed": false,
     "input": [
      "test_city_1.projected_means = city_1.means\n",
      "test_city_2.projected_means = city_2.means\n",
      "test_city_3.projected_means = city_3.means\n",
      "test_city_4.projected_means = city_4.means\n",
      "test_city_5.projected_means = city_5.means"
     ],
     "language": "python",
     "metadata": {},
     "outputs": [],
     "prompt_number": 20
    },
    {
     "cell_type": "heading",
     "level": 3,
     "metadata": {},
     "source": [
      "We will put all the data we work out for the test data in these arrays"
     ]
    },
    {
     "cell_type": "code",
     "collapsed": false,
     "input": [
      "num_views = ['num_views']\n",
      "num_votes = ['num_votes']\n",
      "num_comments = ['num_comments']\n",
      "ids = ['id']"
     ],
     "language": "python",
     "metadata": {},
     "outputs": [],
     "prompt_number": 21
    },
    {
     "cell_type": "code",
     "collapsed": false,
     "input": [
      "for city in test_cities:\n",
      "    for id in city.id:\n",
      "        ids.append(id)\n",
      "        num_views.append(city.projected_means[0])\n",
      "        num_votes.append(city.projected_means[1])\n",
      "        num_comments.append(city.projected_means[2])"
     ],
     "language": "python",
     "metadata": {},
     "outputs": [],
     "prompt_number": 22
    },
    {
     "cell_type": "heading",
     "level": 3,
     "metadata": {},
     "source": [
      "Sanity check"
     ]
    },
    {
     "cell_type": "code",
     "collapsed": false,
     "input": [
      "len(ids)  == test_data.id.size + 1 #add one for label"
     ],
     "language": "python",
     "metadata": {},
     "outputs": [
      {
       "metadata": {},
       "output_type": "pyout",
       "prompt_number": 23,
       "text": [
        "True"
       ]
      }
     ],
     "prompt_number": 23
    },
    {
     "cell_type": "heading",
     "level": 3,
     "metadata": {},
     "source": [
      "Write to csv"
     ]
    },
    {
     "cell_type": "code",
     "collapsed": false,
     "input": [
      "csv_list = np.array([ids,num_views,num_votes,num_comments])\n",
      "csv_list = csv_list.T\n",
      "\n",
      "with open(\"submission.csv\", \"wb\") as f:\n",
      "    writer = csv.writer(f)\n",
      "    writer.writerows(csv_list)"
     ],
     "language": "python",
     "metadata": {},
     "outputs": [],
     "prompt_number": 24
    },
    {
     "cell_type": "heading",
     "level": 3,
     "metadata": {},
     "source": [
      "What sources are there in each city?"
     ]
    },
    {
     "cell_type": "code",
     "collapsed": false,
     "input": [
      "\n"
     ],
     "language": "python",
     "metadata": {},
     "outputs": [
      {
       "output_type": "stream",
       "stream": "stdout",
       "text": [
        "[nan 'Map Widget' 'Mobile Site' 'New Map Widget' 'android' 'city_initiated'\n",
        " 'iphone' 'web']\n"
       ]
      }
     ],
     "prompt_number": 40
    },
    {
     "cell_type": "code",
     "collapsed": false,
     "input": [],
     "language": "python",
     "metadata": {},
     "outputs": [],
     "prompt_number": 25
    }
   ],
   "metadata": {}
  }
 ]
}