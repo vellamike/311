{
 "metadata": {
  "name": ""
 },
 "nbformat": 3,
 "nbformat_minor": 0,
 "worksheets": [
  {
   "cells": [
    {
     "cell_type": "heading",
     "level": 1,
     "metadata": {},
     "source": [
      "Dividing data into separate cities"
     ]
    },
    {
     "cell_type": "code",
     "collapsed": false,
     "input": [
      "import pandas\n",
      "data = pandas.read_csv('/home/mike/dev/311/data/train.csv')\n"
     ],
     "language": "python",
     "metadata": {},
     "outputs": [],
     "prompt_number": 1
    },
    {
     "cell_type": "heading",
     "level": 3,
     "metadata": {},
     "source": [
      "Define our cities"
     ]
    },
    {
     "cell_type": "code",
     "collapsed": false,
     "input": [
      " city_1_boundaries = (37.4,37.7)\n",
      " city_2_boundaries = (37.7,37.9)\n",
      " city_3_boundaries = (41.24,41.3)\n",
      " city_4_boundaries = (41.3,41.4)\n",
      " city_5_boundaries = (41.6,42.1)"
     ],
     "language": "python",
     "metadata": {},
     "outputs": [],
     "prompt_number": 2
    },
    {
     "cell_type": "heading",
     "level": 3,
     "metadata": {},
     "source": [
      "Method to separate them out"
     ]
    },
    {
     "cell_type": "code",
     "collapsed": false,
     "input": [
      "def select(data,city):\n",
      "    \"\"\"\n",
      "    Return a data frame for the city within the correct latitudes\n",
      "    \"\"\"\n",
      "    latitude_min = city[0]\n",
      "    latitude_max = city[1]\n",
      "    selected = data[(data.latitude >= latitude_min) & (data.latitude < latitude_max)]\n",
      "    return selected"
     ],
     "language": "python",
     "metadata": {},
     "outputs": [],
     "prompt_number": 3
    },
    {
     "cell_type": "code",
     "collapsed": false,
     "input": [
      "city_1 = select(data,city_1_boundaries)\n",
      "city_2 = select(data,city_2_boundaries)\n",
      "city_3 = select(data,city_3_boundaries)\n",
      "city_4 = select(data,city_4_boundaries)\n",
      "city_5 = select(data,city_5_boundaries)"
     ],
     "language": "python",
     "metadata": {},
     "outputs": [],
     "prompt_number": 4
    },
    {
     "cell_type": "heading",
     "level": 3,
     "metadata": {},
     "source": [
      "See an example of some of the data"
     ]
    },
    {
     "cell_type": "code",
     "collapsed": false,
     "input": [
      "city_2.head()"
     ],
     "language": "python",
     "metadata": {},
     "outputs": [
      {
       "html": [
        "<div style=\"max-height:1000px;max-width:1500px;overflow:auto;\">\n",
        "<table border=\"1\" class=\"dataframe\">\n",
        "  <thead>\n",
        "    <tr style=\"text-align: right;\">\n",
        "      <th></th>\n",
        "      <th>id</th>\n",
        "      <th>latitude</th>\n",
        "      <th>longitude</th>\n",
        "      <th>summary</th>\n",
        "      <th>description</th>\n",
        "      <th>num_votes</th>\n",
        "      <th>num_comments</th>\n",
        "      <th>num_views</th>\n",
        "      <th>source</th>\n",
        "      <th>created_time</th>\n",
        "      <th>tag_type</th>\n",
        "    </tr>\n",
        "  </thead>\n",
        "  <tbody>\n",
        "    <tr>\n",
        "      <th>31</th>\n",
        "      <td> 317026</td>\n",
        "      <td> 37.843478</td>\n",
        "      <td>-122.245946</td>\n",
        "      <td>               Pothole</td>\n",
        "      <td>                               Pothole in street\\n</td>\n",
        "      <td> 4</td>\n",
        "      <td> 1</td>\n",
        "      <td> 177</td>\n",
        "      <td> iphone</td>\n",
        "      <td> 2012-01-02 18:06:44</td>\n",
        "      <td>       pothole</td>\n",
        "    </tr>\n",
        "    <tr>\n",
        "      <th>33</th>\n",
        "      <td> 379955</td>\n",
        "      <td> 37.839588</td>\n",
        "      <td>-122.251488</td>\n",
        "      <td> Parking meter station</td>\n",
        "      <td> Appears to have been hit by car. Out of operat...</td>\n",
        "      <td> 4</td>\n",
        "      <td> 1</td>\n",
        "      <td> 164</td>\n",
        "      <td> iphone</td>\n",
        "      <td> 2012-01-02 18:55:09</td>\n",
        "      <td> parking_meter</td>\n",
        "    </tr>\n",
        "    <tr>\n",
        "      <th>36</th>\n",
        "      <td>  16578</td>\n",
        "      <td> 37.793552</td>\n",
        "      <td>-122.213066</td>\n",
        "      <td>       Illegal Dumping</td>\n",
        "      <td> Please invest in a camera to catch and stop th...</td>\n",
        "      <td> 2</td>\n",
        "      <td> 1</td>\n",
        "      <td> 166</td>\n",
        "      <td> iphone</td>\n",
        "      <td> 2012-01-02 20:29:54</td>\n",
        "      <td>         trash</td>\n",
        "    </tr>\n",
        "    <tr>\n",
        "      <th>42</th>\n",
        "      <td> 376412</td>\n",
        "      <td> 37.814213</td>\n",
        "      <td>-122.268333</td>\n",
        "      <td>       Illegal Dumping</td>\n",
        "      <td>                                               NaN</td>\n",
        "      <td> 4</td>\n",
        "      <td> 1</td>\n",
        "      <td>  89</td>\n",
        "      <td> iphone</td>\n",
        "      <td> 2012-01-03 06:24:40</td>\n",
        "      <td>         trash</td>\n",
        "    </tr>\n",
        "    <tr>\n",
        "      <th>86</th>\n",
        "      <td> 201228</td>\n",
        "      <td> 37.808846</td>\n",
        "      <td>-122.255119</td>\n",
        "      <td>              Sidewalk</td>\n",
        "      <td> So the overflowing trash can was emptied - but...</td>\n",
        "      <td> 2</td>\n",
        "      <td> 1</td>\n",
        "      <td>  59</td>\n",
        "      <td> iphone</td>\n",
        "      <td> 2012-01-03 15:44:30</td>\n",
        "      <td>         trash</td>\n",
        "    </tr>\n",
        "  </tbody>\n",
        "</table>\n",
        "</div>"
       ],
       "metadata": {},
       "output_type": "pyout",
       "prompt_number": 5,
       "text": [
        "        id   latitude   longitude                summary  \\\n",
        "31  317026  37.843478 -122.245946                Pothole   \n",
        "33  379955  37.839588 -122.251488  Parking meter station   \n",
        "36   16578  37.793552 -122.213066        Illegal Dumping   \n",
        "42  376412  37.814213 -122.268333        Illegal Dumping   \n",
        "86  201228  37.808846 -122.255119               Sidewalk   \n",
        "\n",
        "                                          description  num_votes  \\\n",
        "31                                Pothole in street\\n          4   \n",
        "33  Appears to have been hit by car. Out of operat...          4   \n",
        "36  Please invest in a camera to catch and stop th...          2   \n",
        "42                                                NaN          4   \n",
        "86  So the overflowing trash can was emptied - but...          2   \n",
        "\n",
        "    num_comments  num_views  source         created_time       tag_type  \n",
        "31             1        177  iphone  2012-01-02 18:06:44        pothole  \n",
        "33             1        164  iphone  2012-01-02 18:55:09  parking_meter  \n",
        "36             1        166  iphone  2012-01-02 20:29:54          trash  \n",
        "42             1         89  iphone  2012-01-03 06:24:40          trash  \n",
        "86             1         59  iphone  2012-01-03 15:44:30          trash  "
       ]
      }
     ],
     "prompt_number": 5
    },
    {
     "cell_type": "heading",
     "level": 3,
     "metadata": {},
     "source": [
      "Sanity check"
     ]
    },
    {
     "cell_type": "code",
     "collapsed": false,
     "input": [
      "assert (data.id.size == city_1.id.size + city_2.id.size + city_3.id.size + city_4.id.size + city_5.id.size)"
     ],
     "language": "python",
     "metadata": {},
     "outputs": [],
     "prompt_number": 6
    },
    {
     "cell_type": "code",
     "collapsed": false,
     "input": [],
     "language": "python",
     "metadata": {},
     "outputs": [],
     "prompt_number": 6
    }
   ],
   "metadata": {}
  }
 ]
}