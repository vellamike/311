{
  "nbformat": 4,
  "nbformat_minor": 0,
  "metadata": {
    "colab": {
      "name": "pycuda workshop",
      "provenance": [],
      "collapsed_sections": [],
      "include_colab_link": true
    },
    "kernelspec": {
      "name": "python3",
      "display_name": "Python 3"
    },
    "accelerator": "GPU"
  },
  "cells": [
    {
      "cell_type": "markdown",
      "metadata": {
        "id": "view-in-github",
        "colab_type": "text"
      },
      "source": [
        "<a href=\"https://colab.research.google.com/github/vellamike/311/blob/master/pycuda.ipynb\" target=\"_parent\"><img src=\"https://colab.research.google.com/assets/colab-badge.svg\" alt=\"Open In Colab\"/></a>"
      ]
    },
    {
      "cell_type": "code",
      "metadata": {
        "id": "eQ_neB2MF5dR",
        "colab_type": "code",
        "outputId": "ba176c13-7e06-4708-9e4f-0a093432b76f",
        "colab": {
          "base_uri": "https://localhost:8080/",
          "height": 153
        }
      },
      "source": [
        "!pip install pycuda # install cuda\n",
        "import pycuda.driver as cuda\n",
        "import pycuda.autoinit\n",
        "from pycuda.compiler import SourceModule"
      ],
      "execution_count": 0,
      "outputs": [
        {
          "output_type": "stream",
          "text": [
            "Requirement already satisfied: pycuda in /usr/local/lib/python3.6/dist-packages (2019.1.2)\n",
            "Requirement already satisfied: appdirs>=1.4.0 in /usr/local/lib/python3.6/dist-packages (from pycuda) (1.4.3)\n",
            "Requirement already satisfied: mako in /usr/local/lib/python3.6/dist-packages (from pycuda) (1.1.0)\n",
            "Requirement already satisfied: pytools>=2011.2 in /usr/local/lib/python3.6/dist-packages (from pycuda) (2019.1.1)\n",
            "Requirement already satisfied: decorator>=3.2.0 in /usr/local/lib/python3.6/dist-packages (from pycuda) (4.4.0)\n",
            "Requirement already satisfied: MarkupSafe>=0.9.2 in /usr/local/lib/python3.6/dist-packages (from mako->pycuda) (1.1.1)\n",
            "Requirement already satisfied: numpy>=1.6.0 in /usr/local/lib/python3.6/dist-packages (from pytools>=2011.2->pycuda) (1.16.5)\n",
            "Requirement already satisfied: six>=1.8.0 in /usr/local/lib/python3.6/dist-packages (from pytools>=2011.2->pycuda) (1.12.0)\n"
          ],
          "name": "stdout"
        }
      ]
    },
    {
      "cell_type": "code",
      "metadata": {
        "id": "FA_YN7HlGRP5",
        "colab_type": "code",
        "colab": {}
      },
      "source": [
        "import numpy\n",
        "a = numpy.random.randn(4,4)"
      ],
      "execution_count": 0,
      "outputs": []
    },
    {
      "cell_type": "code",
      "metadata": {
        "id": "Bqm9uTBzJf9X",
        "colab_type": "code",
        "colab": {}
      },
      "source": [
        "a = a.astype(numpy.float32)"
      ],
      "execution_count": 0,
      "outputs": []
    },
    {
      "cell_type": "code",
      "metadata": {
        "id": "92L9E7WkJhsy",
        "colab_type": "code",
        "colab": {}
      },
      "source": [
        "a_gpu = cuda.mem_alloc(a.nbytes)"
      ],
      "execution_count": 0,
      "outputs": []
    },
    {
      "cell_type": "code",
      "metadata": {
        "id": "b1xaAt_NJjSb",
        "colab_type": "code",
        "colab": {}
      },
      "source": [
        "cuda.memcpy_htod(a_gpu, a)\n"
      ],
      "execution_count": 0,
      "outputs": []
    },
    {
      "cell_type": "code",
      "metadata": {
        "id": "bSAkS6e2Jk38",
        "colab_type": "code",
        "colab": {}
      },
      "source": [
        "mod = SourceModule(\"\"\"\n",
        "  __global__ void doublify(float *a)\n",
        "  {\n",
        "    int idx = threadIdx.x + threadIdx.y*4;\n",
        "    a[idx] *= 2;\n",
        "  }\n",
        "  \"\"\")"
      ],
      "execution_count": 0,
      "outputs": []
    },
    {
      "cell_type": "code",
      "metadata": {
        "id": "fBQ0blkNJnIg",
        "colab_type": "code",
        "colab": {}
      },
      "source": [
        "func = mod.get_function(\"doublify\")\n",
        "func(a_gpu, block=(4,4,1))"
      ],
      "execution_count": 0,
      "outputs": []
    },
    {
      "cell_type": "code",
      "metadata": {
        "id": "_ef82NDPJqWV",
        "colab_type": "code",
        "outputId": "ee90107a-3dc7-4a36-a855-ab58c59a51ac",
        "colab": {
          "base_uri": "https://localhost:8080/",
          "height": 153
        }
      },
      "source": [
        "a_doubled = numpy.empty_like(a)\n",
        "cuda.memcpy_dtoh(a_doubled, a_gpu)\n",
        "print(a_doubled)\n",
        "print(a)"
      ],
      "execution_count": 0,
      "outputs": [
        {
          "output_type": "stream",
          "text": [
            "[[ 3.429391    0.37923738  2.2865975  -3.8205628 ]\n",
            " [-0.12789133 -3.5567102   0.63542295  2.184241  ]\n",
            " [-0.57918423 -4.6991134   0.7864673  -3.087758  ]\n",
            " [-0.5750209   1.9147984   1.6053301   1.6458256 ]]\n",
            "[[ 1.7146955   0.18961869  1.1432987  -1.9102814 ]\n",
            " [-0.06394567 -1.7783551   0.31771147  1.0921205 ]\n",
            " [-0.28959212 -2.3495567   0.39323366 -1.543879  ]\n",
            " [-0.28751045  0.9573992   0.80266505  0.8229128 ]]\n"
          ],
          "name": "stdout"
        }
      ]
    },
    {
      "cell_type": "code",
      "metadata": {
        "id": "kXx_p97mJs4Z",
        "colab_type": "code",
        "colab": {}
      },
      "source": [
        "b = numpy.random.randn(4,4)\n",
        "b = b.astype(numpy.float32)\n",
        "c = numpy.random.randn(4,4)\n",
        "c = c.astype(numpy.float32)"
      ],
      "execution_count": 0,
      "outputs": []
    },
    {
      "cell_type": "code",
      "metadata": {
        "id": "cQYD348qKgva",
        "colab_type": "code",
        "colab": {}
      },
      "source": [
        "mod2 = SourceModule(\"\"\"\n",
        "  __global__ void add2(float *a, float *b)\n",
        "  {\n",
        "    int idx = threadIdx.x + threadIdx.y*4;\n",
        "    a[idx] += b[idx];\n",
        "  }\n",
        "  \"\"\")"
      ],
      "execution_count": 0,
      "outputs": []
    },
    {
      "cell_type": "code",
      "metadata": {
        "id": "Vs_5Hb-6Kr-C",
        "colab_type": "code",
        "colab": {}
      },
      "source": [
        "b_gpu = cuda.mem_alloc(b.nbytes)\n",
        "c_gpu = cuda.mem_alloc(c.nbytes)\n",
        "\n",
        "cuda.memcpy_htod(b_gpu, b)\n",
        "cuda.memcpy_htod(c_gpu, c)\n"
      ],
      "execution_count": 0,
      "outputs": []
    },
    {
      "cell_type": "code",
      "metadata": {
        "id": "WwA4tpOtLE5_",
        "colab_type": "code",
        "colab": {}
      },
      "source": [
        "func = mod2.get_function(\"add2\")\n",
        "func(b_gpu,c_gpu, block=(4,4,1))"
      ],
      "execution_count": 0,
      "outputs": []
    },
    {
      "cell_type": "code",
      "metadata": {
        "id": "0zN8iBYDM_00",
        "colab_type": "code",
        "outputId": "19ed3e94-5884-476a-a636-7ba1e5a5e44a",
        "colab": {
          "base_uri": "https://localhost:8080/",
          "height": 221
        }
      },
      "source": [
        "added = numpy.empty_like(b)\n",
        "cuda.memcpy_dtoh(added, b_gpu)\n",
        "print(added)\n",
        "print(b)\n",
        "print(c)"
      ],
      "execution_count": 0,
      "outputs": [
        {
          "output_type": "stream",
          "text": [
            "[[ 1.2008601  -2.0707388  -1.638124   -0.8436059 ]\n",
            " [-0.27846655  1.9869852   0.4241285   1.6201097 ]\n",
            " [-0.81453604  1.3625945   0.29871333 -0.45156989]\n",
            " [ 0.23972344  1.8589917   0.45649573  1.2006731 ]]\n",
            "[[ 0.27993715 -0.6367077  -1.3909823   0.86861134]\n",
            " [-0.5009937   1.2655689  -0.00545789  2.012207  ]\n",
            " [-0.3106417   0.3997737   0.8599566  -0.46498844]\n",
            " [ 1.0907929   0.7727295   0.8979871   1.1682794 ]]\n",
            "[[ 0.920923   -1.434031   -0.24714178 -1.7122172 ]\n",
            " [ 0.22252718  0.7214164   0.4295864  -0.39209738]\n",
            " [-0.5038943   0.96282077 -0.5612433   0.01341857]\n",
            " [-0.85106945  1.0862622  -0.4414914   0.03239373]]\n"
          ],
          "name": "stdout"
        }
      ]
    },
    {
      "cell_type": "markdown",
      "metadata": {
        "id": "vJBVoR8ANgx5",
        "colab_type": "text"
      },
      "source": [
        "# Exercises\n",
        "\n",
        "1. Write a cuda kernel to find the elementwise square of a matrix\n",
        "2. Write a cuda kernel to find a matrix, which when added to the given matrix results in every element being equal to zero\n",
        "3. Write a cuda kernel to multiply two matrices - how does it scale with matrix size?"
      ]
    },
    {
      "cell_type": "code",
      "metadata": {
        "id": "ZBYr6BUWNuLe",
        "colab_type": "code",
        "colab": {}
      },
      "source": [
        "1. "
      ],
      "execution_count": 0,
      "outputs": []
    }
  ]
}